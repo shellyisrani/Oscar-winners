{
 "cells": [
  {
   "cell_type": "code",
   "execution_count": 29,
   "metadata": {},
   "outputs": [],
   "source": [
    "import requests\n",
    "from bs4 import BeautifulSoup\n",
    "import pandas as pd"
   ]
  },
  {
   "cell_type": "code",
   "execution_count": 30,
   "metadata": {},
   "outputs": [],
   "source": [
    "#use requests to get the data and then use beautiful soup so we can parse through it\n",
    "oscars2019_raw = requests.get('https://www.oscars.org/oscars/ceremonies/2019').text\n",
    "\n",
    "oscars2019_bs = BeautifulSoup(oscars2019_raw)"
   ]
  },
  {
   "cell_type": "code",
   "execution_count": 31,
   "metadata": {},
   "outputs": [
    {
     "data": {
      "text/plain": [
       "<div class=\"view-grouping\"><div class=\"view-grouping-header\"><h2>Actor in a Leading Role</h2></div><div class=\"view-grouping-content\"> <h3><span class=\"golden-text\">Winner</span></h3>\n",
       "<div class=\"views-row views-row-1 views-row-odd views-row-first views-row-last\">\n",
       "<div class=\"views-field views-field-field-actor-name\"> <h4 class=\"field-content\">Rami Malek</h4> </div>\n",
       "<div class=\"views-field views-field-title\"> <span class=\"field-content\">Bohemian Rhapsody\n",
       "</span> </div>\n",
       "<div class=\"views-field views-field-edit-node\"> <span class=\"field-content\"></span> </div> </div>\n",
       "<h3>Nominees</h3>\n",
       "<div class=\"views-row views-row-1 views-row-odd views-row-first\">\n",
       "<div class=\"views-field views-field-field-actor-name\"> <h4 class=\"field-content\">Christian Bale</h4> </div>\n",
       "<div class=\"views-field views-field-title\"> <span class=\"field-content\">Vice\n",
       "</span> </div>\n",
       "<div class=\"views-field views-field-edit-node\"> <span class=\"field-content\"></span> </div> </div>\n",
       "<div class=\"views-row views-row-2 views-row-even\">\n",
       "<div class=\"views-field views-field-field-actor-name\"> <h4 class=\"field-content\">Bradley Cooper</h4> </div>\n",
       "<div class=\"views-field views-field-title\"> <span class=\"field-content\">A Star Is Born\n",
       "</span> </div>\n",
       "<div class=\"views-field views-field-edit-node\"> <span class=\"field-content\"></span> </div> </div>\n",
       "<div class=\"views-row views-row-3 views-row-odd\">\n",
       "<div class=\"views-field views-field-field-actor-name\"> <h4 class=\"field-content\">Willem Dafoe</h4> </div>\n",
       "<div class=\"views-field views-field-title\"> <span class=\"field-content\">At Eternity's Gate\n",
       "</span> </div>\n",
       "<div class=\"views-field views-field-edit-node\"> <span class=\"field-content\"></span> </div> </div>\n",
       "<div class=\"views-row views-row-4 views-row-even views-row-last\">\n",
       "<div class=\"views-field views-field-field-actor-name\"> <h4 class=\"field-content\">Viggo Mortensen</h4> </div>\n",
       "<div class=\"views-field views-field-title\"> <span class=\"field-content\">Green Book\n",
       "</span> </div>\n",
       "<div class=\"views-field views-field-edit-node\"> <span class=\"field-content\"></span> </div> </div>\n",
       "</div></div>"
      ]
     },
     "execution_count": 31,
     "metadata": {},
     "output_type": "execute_result"
    }
   ],
   "source": [
    "#get all award groups\n",
    "oscars2019_groups = oscars2019_bs.find_all('div',{'class':'view-grouping'})\n",
    "\n",
    "#look at the first one\n",
    "oscars2019_groups[0]"
   ]
  },
  {
   "cell_type": "code",
   "execution_count": 32,
   "metadata": {},
   "outputs": [
    {
     "data": {
      "text/plain": [
       "<div class=\"view-grouping\"><div class=\"view-grouping-header\">The Wife</div><span class=\"label\">1 Nomination</span><div class=\"view-grouping-content\"> <div>\n",
       "<div class=\"views-field views-field-title-field\"> <div class=\"field-content\">Actress in a Leading Role - Glenn Close</div> </div> </div>\n",
       "</div></div>"
      ]
     },
     "execution_count": 32,
     "metadata": {},
     "output_type": "execute_result"
    }
   ],
   "source": [
    "#look at the last one\n",
    "oscars2019_groups[-1]"
   ]
  },
  {
   "cell_type": "code",
   "execution_count": 33,
   "metadata": {},
   "outputs": [
    {
     "data": {
      "text/plain": [
       "104"
      ]
     },
     "execution_count": 33,
     "metadata": {},
     "output_type": "execute_result"
    }
   ],
   "source": [
    "#count number of award groups\n",
    "len(oscars2019_groups)"
   ]
  },
  {
   "cell_type": "code",
   "execution_count": 34,
   "metadata": {},
   "outputs": [
    {
     "data": {
      "text/plain": [
       "1"
      ]
     },
     "execution_count": 34,
     "metadata": {},
     "output_type": "execute_result"
    }
   ],
   "source": [
    "#HTML tree to find more specific parents\n",
    "oscars2019_parent_group = oscars2019_bs.find_all('div',{'id':'quicktabs-tabpage-honorees-0'})\n",
    "\n",
    "#count groups matching the pattern; only 1\n",
    "len(oscars2019_parent_group)"
   ]
  },
  {
   "cell_type": "code",
   "execution_count": 35,
   "metadata": {},
   "outputs": [
    {
     "data": {
      "text/plain": [
       "24"
      ]
     },
     "execution_count": 35,
     "metadata": {},
     "output_type": "execute_result"
    }
   ],
   "source": [
    "#search within the parent group\n",
    "oscars2019_true_groups = oscars2019_parent_group[0].find_all('div',{'class':'view-grouping'})\n",
    "#number of award groups\n",
    "len(oscars2019_true_groups)"
   ]
  },
  {
   "cell_type": "code",
   "execution_count": 36,
   "metadata": {},
   "outputs": [
    {
     "name": "stdout",
     "output_type": "stream",
     "text": [
      "Actor in a Leading Role\n",
      "Actor in a Supporting Role\n",
      "Actress in a Leading Role\n",
      "Actress in a Supporting Role\n",
      "Animated Feature Film\n",
      "Cinematography\n",
      "Costume Design\n",
      "Directing\n",
      "Documentary (Feature)\n",
      "Documentary (Short Subject)\n",
      "Film Editing\n",
      "Foreign Language Film\n",
      "Makeup and Hairstyling\n",
      "Music (Original Score)\n",
      "Music (Original Song)\n",
      "Best Picture\n",
      "Production Design\n",
      "Short Film (Animated)\n",
      "Short Film (Live Action)\n",
      "Sound Editing\n",
      "Sound Mixing\n",
      "Visual Effects\n",
      "Writing (Adapted Screenplay)\n",
      "Writing (Original Screenplay)\n"
     ]
    }
   ],
   "source": [
    "#loop to find award names in each group\n",
    "for group in oscars2019_parent_group[0].find_all('div',{'class':'view-grouping-header'}):\n",
    "    print(group.text)"
   ]
  },
  {
   "cell_type": "code",
   "execution_count": 37,
   "metadata": {},
   "outputs": [
    {
     "data": {
      "text/plain": [
       "<div class=\"view-grouping\"><div class=\"view-grouping-header\"><h2>Actor in a Leading Role</h2></div><div class=\"view-grouping-content\"> <h3><span class=\"golden-text\">Winner</span></h3>\n",
       "<div class=\"views-row views-row-1 views-row-odd views-row-first views-row-last\">\n",
       "<div class=\"views-field views-field-field-actor-name\"> <h4 class=\"field-content\">Rami Malek</h4> </div>\n",
       "<div class=\"views-field views-field-title\"> <span class=\"field-content\">Bohemian Rhapsody\n",
       "</span> </div>\n",
       "<div class=\"views-field views-field-edit-node\"> <span class=\"field-content\"></span> </div> </div>\n",
       "<h3>Nominees</h3>\n",
       "<div class=\"views-row views-row-1 views-row-odd views-row-first\">\n",
       "<div class=\"views-field views-field-field-actor-name\"> <h4 class=\"field-content\">Christian Bale</h4> </div>\n",
       "<div class=\"views-field views-field-title\"> <span class=\"field-content\">Vice\n",
       "</span> </div>\n",
       "<div class=\"views-field views-field-edit-node\"> <span class=\"field-content\"></span> </div> </div>\n",
       "<div class=\"views-row views-row-2 views-row-even\">\n",
       "<div class=\"views-field views-field-field-actor-name\"> <h4 class=\"field-content\">Bradley Cooper</h4> </div>\n",
       "<div class=\"views-field views-field-title\"> <span class=\"field-content\">A Star Is Born\n",
       "</span> </div>\n",
       "<div class=\"views-field views-field-edit-node\"> <span class=\"field-content\"></span> </div> </div>\n",
       "<div class=\"views-row views-row-3 views-row-odd\">\n",
       "<div class=\"views-field views-field-field-actor-name\"> <h4 class=\"field-content\">Willem Dafoe</h4> </div>\n",
       "<div class=\"views-field views-field-title\"> <span class=\"field-content\">At Eternity's Gate\n",
       "</span> </div>\n",
       "<div class=\"views-field views-field-edit-node\"> <span class=\"field-content\"></span> </div> </div>\n",
       "<div class=\"views-row views-row-4 views-row-even views-row-last\">\n",
       "<div class=\"views-field views-field-field-actor-name\"> <h4 class=\"field-content\">Viggo Mortensen</h4> </div>\n",
       "<div class=\"views-field views-field-title\"> <span class=\"field-content\">Green Book\n",
       "</span> </div>\n",
       "<div class=\"views-field views-field-edit-node\"> <span class=\"field-content\"></span> </div> </div>\n",
       "</div></div>"
      ]
     },
     "execution_count": 37,
     "metadata": {},
     "output_type": "execute_result"
    }
   ],
   "source": [
    "#find tag for \"Actor in a Leading Role\"\n",
    "oscars2019_groups[0]"
   ]
  },
  {
   "cell_type": "code",
   "execution_count": 38,
   "metadata": {},
   "outputs": [
    {
     "data": {
      "text/plain": [
       "24"
      ]
     },
     "execution_count": 38,
     "metadata": {},
     "output_type": "execute_result"
    }
   ],
   "source": [
    "#get parent\n",
    "oscars2019_group0_parent = oscars2019_groups[0].parent\n",
    "\n",
    "#find relevant children\n",
    "oscars2019_group0_parent_children = oscars2019_group0_parent.find_all('div',{'class':'view-grouping'})\n",
    "\n",
    "#count\n",
    "len(oscars2019_group0_parent_children)"
   ]
  },
  {
   "cell_type": "markdown",
   "metadata": {},
   "source": [
    "Look at relevant fields and output HTML output for content mapping"
   ]
  },
  {
   "cell_type": "code",
   "execution_count": 39,
   "metadata": {},
   "outputs": [
    {
     "data": {
      "text/plain": [
       "<div class=\"view-grouping\"><div class=\"view-grouping-header\"><h2>Actor in a Leading Role</h2></div><div class=\"view-grouping-content\"> <h3><span class=\"golden-text\">Winner</span></h3>\n",
       "<div class=\"views-row views-row-1 views-row-odd views-row-first views-row-last\">\n",
       "<div class=\"views-field views-field-field-actor-name\"> <h4 class=\"field-content\">Rami Malek</h4> </div>\n",
       "<div class=\"views-field views-field-title\"> <span class=\"field-content\">Bohemian Rhapsody\n",
       "</span> </div>\n",
       "<div class=\"views-field views-field-edit-node\"> <span class=\"field-content\"></span> </div> </div>\n",
       "<h3>Nominees</h3>\n",
       "<div class=\"views-row views-row-1 views-row-odd views-row-first\">\n",
       "<div class=\"views-field views-field-field-actor-name\"> <h4 class=\"field-content\">Christian Bale</h4> </div>\n",
       "<div class=\"views-field views-field-title\"> <span class=\"field-content\">Vice\n",
       "</span> </div>\n",
       "<div class=\"views-field views-field-edit-node\"> <span class=\"field-content\"></span> </div> </div>\n",
       "<div class=\"views-row views-row-2 views-row-even\">\n",
       "<div class=\"views-field views-field-field-actor-name\"> <h4 class=\"field-content\">Bradley Cooper</h4> </div>\n",
       "<div class=\"views-field views-field-title\"> <span class=\"field-content\">A Star Is Born\n",
       "</span> </div>\n",
       "<div class=\"views-field views-field-edit-node\"> <span class=\"field-content\"></span> </div> </div>\n",
       "<div class=\"views-row views-row-3 views-row-odd\">\n",
       "<div class=\"views-field views-field-field-actor-name\"> <h4 class=\"field-content\">Willem Dafoe</h4> </div>\n",
       "<div class=\"views-field views-field-title\"> <span class=\"field-content\">At Eternity's Gate\n",
       "</span> </div>\n",
       "<div class=\"views-field views-field-edit-node\"> <span class=\"field-content\"></span> </div> </div>\n",
       "<div class=\"views-row views-row-4 views-row-even views-row-last\">\n",
       "<div class=\"views-field views-field-field-actor-name\"> <h4 class=\"field-content\">Viggo Mortensen</h4> </div>\n",
       "<div class=\"views-field views-field-title\"> <span class=\"field-content\">Green Book\n",
       "</span> </div>\n",
       "<div class=\"views-field views-field-edit-node\"> <span class=\"field-content\"></span> </div> </div>\n",
       "</div></div>"
      ]
     },
     "execution_count": 39,
     "metadata": {},
     "output_type": "execute_result"
    }
   ],
   "source": [
    "oscars2019_true_groups[0]"
   ]
  },
  {
   "cell_type": "code",
   "execution_count": 40,
   "metadata": {},
   "outputs": [
    {
     "data": {
      "text/plain": [
       "[<div class=\"views-field views-field-field-actor-name\"> <h4 class=\"field-content\">Rami Malek</h4> </div>,\n",
       " <div class=\"views-field views-field-field-actor-name\"> <h4 class=\"field-content\">Christian Bale</h4> </div>,\n",
       " <div class=\"views-field views-field-field-actor-name\"> <h4 class=\"field-content\">Bradley Cooper</h4> </div>,\n",
       " <div class=\"views-field views-field-field-actor-name\"> <h4 class=\"field-content\">Willem Dafoe</h4> </div>,\n",
       " <div class=\"views-field views-field-field-actor-name\"> <h4 class=\"field-content\">Viggo Mortensen</h4> </div>]"
      ]
     },
     "execution_count": 40,
     "metadata": {},
     "output_type": "execute_result"
    }
   ],
   "source": [
    "oscars2019_true_groups[0].find_all('div',{'class':\"views-field views-field-field-actor-name\"})"
   ]
  },
  {
   "cell_type": "code",
   "execution_count": 41,
   "metadata": {},
   "outputs": [
    {
     "data": {
      "text/plain": [
       "[<h4 class=\"field-content\">Rami Malek</h4>,\n",
       " <h4 class=\"field-content\">Christian Bale</h4>,\n",
       " <h4 class=\"field-content\">Bradley Cooper</h4>,\n",
       " <h4 class=\"field-content\">Willem Dafoe</h4>,\n",
       " <h4 class=\"field-content\">Viggo Mortensen</h4>]"
      ]
     },
     "execution_count": 41,
     "metadata": {},
     "output_type": "execute_result"
    }
   ],
   "source": [
    "oscars2019_true_groups[0].find_all('h4')"
   ]
  },
  {
   "cell_type": "code",
   "execution_count": 42,
   "metadata": {},
   "outputs": [
    {
     "data": {
      "text/plain": [
       "[<div class=\"views-field views-field-title\"> <span class=\"field-content\">Bohemian Rhapsody\n",
       " </span> </div>,\n",
       " <div class=\"views-field views-field-title\"> <span class=\"field-content\">Vice\n",
       " </span> </div>,\n",
       " <div class=\"views-field views-field-title\"> <span class=\"field-content\">A Star Is Born\n",
       " </span> </div>,\n",
       " <div class=\"views-field views-field-title\"> <span class=\"field-content\">At Eternity's Gate\n",
       " </span> </div>,\n",
       " <div class=\"views-field views-field-title\"> <span class=\"field-content\">Green Book\n",
       " </span> </div>]"
      ]
     },
     "execution_count": 42,
     "metadata": {},
     "output_type": "execute_result"
    }
   ],
   "source": [
    "oscars2019_true_groups[0].find_all('div',{'class':\"views-field views-field-title\"})"
   ]
  },
  {
   "cell_type": "code",
   "execution_count": 43,
   "metadata": {},
   "outputs": [
    {
     "data": {
      "text/plain": [
       "[<span class=\"golden-text\">Winner</span>,\n",
       " <span class=\"field-content\">Bohemian Rhapsody\n",
       " </span>,\n",
       " <span class=\"field-content\"></span>,\n",
       " <span class=\"field-content\">Vice\n",
       " </span>,\n",
       " <span class=\"field-content\"></span>,\n",
       " <span class=\"field-content\">A Star Is Born\n",
       " </span>,\n",
       " <span class=\"field-content\"></span>,\n",
       " <span class=\"field-content\">At Eternity's Gate\n",
       " </span>,\n",
       " <span class=\"field-content\"></span>,\n",
       " <span class=\"field-content\">Green Book\n",
       " </span>,\n",
       " <span class=\"field-content\"></span>]"
      ]
     },
     "execution_count": 43,
     "metadata": {},
     "output_type": "execute_result"
    }
   ],
   "source": [
    "oscars2019_true_groups[0].find_all('span')"
   ]
  },
  {
   "cell_type": "code",
   "execution_count": 44,
   "metadata": {},
   "outputs": [
    {
     "data": {
      "text/plain": [
       "[<div class=\"views-field views-field-field-actor-name\"> <h4 class=\"field-content\">Green Book</h4> </div>,\n",
       " <div class=\"views-field views-field-field-actor-name\"> <h4 class=\"field-content\">The Favourite</h4> </div>,\n",
       " <div class=\"views-field views-field-field-actor-name\"> <h4 class=\"field-content\">First Reformed</h4> </div>,\n",
       " <div class=\"views-field views-field-field-actor-name\"> <h4 class=\"field-content\">Roma</h4> </div>,\n",
       " <div class=\"views-field views-field-field-actor-name\"> <h4 class=\"field-content\">Vice</h4> </div>]"
      ]
     },
     "execution_count": 44,
     "metadata": {},
     "output_type": "execute_result"
    }
   ],
   "source": [
    "oscars2019_true_groups[-1].find_all('div',{'class':\"views-field views-field-field-actor-name\"})"
   ]
  },
  {
   "cell_type": "code",
   "execution_count": 45,
   "metadata": {},
   "outputs": [
    {
     "data": {
      "text/plain": [
       "[<div class=\"views-field views-field-title\"> <span class=\"field-content\">Written by Nick Vallelonga, Brian Currie, Peter Farrelly\n",
       " </span> </div>,\n",
       " <div class=\"views-field views-field-title\"> <span class=\"field-content\">Written by Deborah Davis and Tony McNamara\n",
       " </span> </div>,\n",
       " <div class=\"views-field views-field-title\"> <span class=\"field-content\">Written by Paul Schrader\n",
       " </span> </div>,\n",
       " <div class=\"views-field views-field-title\"> <span class=\"field-content\">Written by Alfonso Cuarón\n",
       " </span> </div>,\n",
       " <div class=\"views-field views-field-title\"> <span class=\"field-content\">Written by Adam McKay\n",
       " </span> </div>]"
      ]
     },
     "execution_count": 45,
     "metadata": {},
     "output_type": "execute_result"
    }
   ],
   "source": [
    "oscars2019_true_groups[-1].find_all('div',{'class':\"views-field views-field-title\"})"
   ]
  },
  {
   "cell_type": "raw",
   "metadata": {},
   "source": [
    "# HTML content mapping:\n",
    "    Year: All the awards are from the same year (2019); in the URL as well\n",
    "    Category: <h2>\n",
    "    Nominee: <h4> for actors, <span> for non-actors\n",
    "    Movie: <span> for actors, <h4> for non-actors\n",
    "    Won: <h3> for sibling, 0 for everyone else; alternatively just the top nominee"
   ]
  },
  {
   "cell_type": "code",
   "execution_count": 46,
   "metadata": {},
   "outputs": [
    {
     "data": {
      "text/plain": [
       "<div class=\"view-grouping\"><div class=\"view-grouping-header\"><h2>Actor in a Leading Role</h2></div><div class=\"view-grouping-content\"> <h3><span class=\"golden-text\">Winner</span></h3>\n",
       "<div class=\"views-row views-row-1 views-row-odd views-row-first views-row-last\">\n",
       "<div class=\"views-field views-field-field-actor-name\"> <h4 class=\"field-content\">Rami Malek</h4> </div>\n",
       "<div class=\"views-field views-field-title\"> <span class=\"field-content\">Bohemian Rhapsody\n",
       "</span> </div>\n",
       "<div class=\"views-field views-field-edit-node\"> <span class=\"field-content\"></span> </div> </div>\n",
       "<h3>Nominees</h3>\n",
       "<div class=\"views-row views-row-1 views-row-odd views-row-first\">\n",
       "<div class=\"views-field views-field-field-actor-name\"> <h4 class=\"field-content\">Christian Bale</h4> </div>\n",
       "<div class=\"views-field views-field-title\"> <span class=\"field-content\">Vice\n",
       "</span> </div>\n",
       "<div class=\"views-field views-field-edit-node\"> <span class=\"field-content\"></span> </div> </div>\n",
       "<div class=\"views-row views-row-2 views-row-even\">\n",
       "<div class=\"views-field views-field-field-actor-name\"> <h4 class=\"field-content\">Bradley Cooper</h4> </div>\n",
       "<div class=\"views-field views-field-title\"> <span class=\"field-content\">A Star Is Born\n",
       "</span> </div>\n",
       "<div class=\"views-field views-field-edit-node\"> <span class=\"field-content\"></span> </div> </div>\n",
       "<div class=\"views-row views-row-3 views-row-odd\">\n",
       "<div class=\"views-field views-field-field-actor-name\"> <h4 class=\"field-content\">Willem Dafoe</h4> </div>\n",
       "<div class=\"views-field views-field-title\"> <span class=\"field-content\">At Eternity's Gate\n",
       "</span> </div>\n",
       "<div class=\"views-field views-field-edit-node\"> <span class=\"field-content\"></span> </div> </div>\n",
       "<div class=\"views-row views-row-4 views-row-even views-row-last\">\n",
       "<div class=\"views-field views-field-field-actor-name\"> <h4 class=\"field-content\">Viggo Mortensen</h4> </div>\n",
       "<div class=\"views-field views-field-title\"> <span class=\"field-content\">Green Book\n",
       "</span> </div>\n",
       "<div class=\"views-field views-field-edit-node\"> <span class=\"field-content\"></span> </div> </div>\n",
       "</div></div>"
      ]
     },
     "execution_count": 46,
     "metadata": {},
     "output_type": "execute_result"
    }
   ],
   "source": [
    "oscars2019_true_groups[0]"
   ]
  },
  {
   "cell_type": "code",
   "execution_count": 47,
   "metadata": {},
   "outputs": [
    {
     "name": "stdout",
     "output_type": "stream",
     "text": [
      "The name of the category is: Actor in a Leading Role\n"
     ]
    }
   ],
   "source": [
    "category = oscars2019_true_groups[0].find_all('h2')[0].text\n",
    "print(\"The name of the category is:\",category)"
   ]
  },
  {
   "cell_type": "code",
   "execution_count": 48,
   "metadata": {},
   "outputs": [
    {
     "name": "stdout",
     "output_type": "stream",
     "text": [
      "The name of a nominee is: Rami Malek\n",
      "The name of a nominee is: Christian Bale\n",
      "The name of a nominee is: Bradley Cooper\n",
      "The name of a nominee is: Willem Dafoe\n",
      "The name of a nominee is: Viggo Mortensen\n"
     ]
    }
   ],
   "source": [
    "names = []\n",
    "for _nominee in oscars2019_true_groups[0].find_all('h4'):\n",
    "    nominee_name = _nominee.text\n",
    "    names.append(nominee_name)\n",
    "    print(\"The name of a nominee is:\",nominee_name)"
   ]
  },
  {
   "cell_type": "code",
   "execution_count": 49,
   "metadata": {},
   "outputs": [
    {
     "name": "stdout",
     "output_type": "stream",
     "text": [
      "The name of a movie is: Winner\n",
      "The name of a movie is: Bohemian Rhapsody\n",
      "The name of a movie is: Vice\n",
      "The name of a movie is: A Star Is Born\n",
      "The name of a movie is: At Eternity's Gate\n",
      "The name of a movie is: Green Book\n"
     ]
    }
   ],
   "source": [
    "movies = []\n",
    "\n",
    "for _movie in oscars2019_true_groups[0].find_all('span'):\n",
    "    if len(_movie.text) > 0:\n",
    "        movie_name = _movie.text.strip()\n",
    "        movies.append(movie_name)\n",
    "        print(\"The name of a movie is:\",movie_name)"
   ]
  },
  {
   "cell_type": "code",
   "execution_count": 50,
   "metadata": {},
   "outputs": [
    {
     "name": "stdout",
     "output_type": "stream",
     "text": [
      "Rami Malek was nominated for \"Bohemian Rhapsody\" and Won.\n",
      "Christian Bale was nominated for \"Vice\" and Lost.\n",
      "Bradley Cooper was nominated for \"A Star Is Born\" and Lost.\n",
      "Willem Dafoe was nominated for \"At Eternity's Gate\" and Lost.\n",
      "Viggo Mortensen was nominated for \"Green Book\" and Lost.\n"
     ]
    }
   ],
   "source": [
    "#extract relevant info from subdivs\n",
    "actor_nominees = oscars2019_true_groups[0].find_all('div',{'class':'views-row'})\n",
    "\n",
    "for i,nominee in enumerate(actor_nominees):\n",
    "    \n",
    "    if i == 0:\n",
    "        winner = 'Won'\n",
    "    else:\n",
    "        winner = 'Lost'\n",
    "    \n",
    "    #list of all subdivs\n",
    "    subdivs = nominee.find_all('div')\n",
    "    \n",
    "    #first subdiv (for an actor) is the name\n",
    "    name = subdivs[0].text.strip()\n",
    "    \n",
    "    #second subdiv (for an actor) is the movie name\n",
    "    movie = subdivs[1].text.strip()\n",
    "    \n",
    "    print(\"{0} was nominated for \\\"{1}\\\" and {2}.\".format(name,movie,winner))"
   ]
  },
  {
   "cell_type": "code",
   "execution_count": 51,
   "metadata": {},
   "outputs": [
    {
     "name": "stdout",
     "output_type": "stream",
     "text": [
      "Written by Nick Vallelonga, Brian Currie, Peter Farrelly was nominated for \"Green Book\" and Won.\n",
      "Written by Deborah Davis and Tony McNamara was nominated for \"The Favourite\" and Lost.\n",
      "Written by Paul Schrader was nominated for \"First Reformed\" and Lost.\n",
      "Written by Alfonso Cuarón was nominated for \"Roma\" and Lost.\n",
      "Written by Adam McKay was nominated for \"Vice\" and Lost.\n"
     ]
    }
   ],
   "source": [
    "#reversing 'movie' and 'name' works for another award category (making sure code is sound)\n",
    "original_screenplay_nominees = oscars2019_true_groups[-1].find_all('div',{'class':'views-row'})\n",
    "\n",
    "for i,nominee in enumerate(original_screenplay_nominees):\n",
    "    if i == 0:\n",
    "        winner = 'Won'\n",
    "    else:\n",
    "        winner = 'Lost'\n",
    "        \n",
    "    subdivs = nominee.find_all('div')\n",
    "    \n",
    "    #movie and name reversed\n",
    "    movie = subdivs[0].text.strip()\n",
    "    name = subdivs[1].text.strip()\n",
    "    \n",
    "    print(\"{0} was nominated for \\\"{1}\\\" and {2}.\".format(name,movie,winner))"
   ]
  },
  {
   "cell_type": "code",
   "execution_count": 52,
   "metadata": {},
   "outputs": [
    {
     "name": "stdout",
     "output_type": "stream",
     "text": [
      "Rami Malek was nominated in Actor in a Leading Role for Bohemian Rhapsody\" and Won.\n",
      "Christian Bale was nominated in Actor in a Leading Role for Vice\" and Lost.\n",
      "Bradley Cooper was nominated in Actor in a Leading Role for A Star Is Born\" and Lost.\n",
      "Willem Dafoe was nominated in Actor in a Leading Role for At Eternity's Gate\" and Lost.\n",
      "Viggo Mortensen was nominated in Actor in a Leading Role for Green Book\" and Lost.\n",
      "Mahershala Ali was nominated in Actor in a Supporting Role for Green Book\" and Won.\n",
      "Adam Driver was nominated in Actor in a Supporting Role for BlacKkKlansman\" and Lost.\n",
      "Sam Elliott was nominated in Actor in a Supporting Role for A Star Is Born\" and Lost.\n",
      "Richard E. Grant was nominated in Actor in a Supporting Role for Can You Ever Forgive Me?\" and Lost.\n",
      "Sam Rockwell was nominated in Actor in a Supporting Role for Vice\" and Lost.\n",
      "Olivia Colman was nominated in Actress in a Leading Role for The Favourite\" and Won.\n",
      "Yalitza Aparicio was nominated in Actress in a Leading Role for Roma\" and Lost.\n",
      "Glenn Close was nominated in Actress in a Leading Role for The Wife\" and Lost.\n",
      "Lady Gaga was nominated in Actress in a Leading Role for A Star Is Born\" and Lost.\n",
      "Melissa McCarthy was nominated in Actress in a Leading Role for Can You Ever Forgive Me?\" and Lost.\n",
      "Regina King was nominated in Actress in a Supporting Role for If Beale Street Could Talk\" and Won.\n",
      "Amy Adams was nominated in Actress in a Supporting Role for Vice\" and Lost.\n",
      "Marina de Tavira was nominated in Actress in a Supporting Role for Roma\" and Lost.\n",
      "Emma Stone was nominated in Actress in a Supporting Role for The Favourite\" and Lost.\n",
      "Rachel Weisz was nominated in Actress in a Supporting Role for The Favourite\" and Lost.\n",
      "Spider-Man: Into the Spider-Verse was nominated in Animated Feature Film for Bob Persichetti, Peter Ramsey, Rodney Rothman, Phil Lord and Christopher Miller\" and Won.\n",
      "Incredibles 2 was nominated in Animated Feature Film for Brad Bird, John Walker and Nicole Paradis Grindle\" and Lost.\n",
      "Isle of Dogs was nominated in Animated Feature Film for Wes Anderson, Scott Rudin, Steven Rales and Jeremy Dawson\" and Lost.\n",
      "Mirai was nominated in Animated Feature Film for Mamoru Hosoda and Yuichiro Saito\" and Lost.\n",
      "Ralph Breaks the Internet was nominated in Animated Feature Film for Rich Moore, Phil Johnston and Clark Spencer\" and Lost.\n",
      "Roma was nominated in Cinematography for Alfonso Cuarón\" and Won.\n",
      "Cold War was nominated in Cinematography for Łukasz Żal\" and Lost.\n",
      "The Favourite was nominated in Cinematography for Robbie Ryan\" and Lost.\n",
      "Never Look Away was nominated in Cinematography for Caleb Deschanel\" and Lost.\n",
      "A Star Is Born was nominated in Cinematography for Matthew Libatique\" and Lost.\n",
      "Black Panther was nominated in Costume Design for Ruth Carter\" and Won.\n",
      "The Ballad of Buster Scruggs was nominated in Costume Design for Mary Zophres\" and Lost.\n",
      "The Favourite was nominated in Costume Design for Sandy Powell\" and Lost.\n",
      "Mary Poppins Returns was nominated in Costume Design for Sandy Powell\" and Lost.\n",
      "Mary Queen of Scots was nominated in Costume Design for Alexandra Byrne\" and Lost.\n",
      "Roma was nominated in Directing for Alfonso Cuarón\" and Won.\n",
      "BlacKkKlansman was nominated in Directing for Spike Lee\" and Lost.\n",
      "Cold War was nominated in Directing for Paweł Pawlikowski\" and Lost.\n",
      "The Favourite was nominated in Directing for Yorgos Lanthimos\" and Lost.\n",
      "Vice was nominated in Directing for Adam McKay\" and Lost.\n",
      "Free Solo was nominated in Documentary (Feature) for Elizabeth Chai Vasarhelyi, Jimmy Chin, Evan Hayes and Shannon Dill\" and Won.\n",
      "Hale County This Morning, This Evening was nominated in Documentary (Feature) for RaMell Ross, Joslyn Barnes and Su Kim\" and Lost.\n",
      "Minding the Gap was nominated in Documentary (Feature) for Bing Liu and Diane Quon\" and Lost.\n",
      "Of Fathers and Sons was nominated in Documentary (Feature) for Talal Derki, Ansgar Frerich, Eva Kemme and Tobias N. Siebert\" and Lost.\n",
      "RBG was nominated in Documentary (Feature) for Betsy West and Julie Cohen\" and Lost.\n",
      "Period. End of Sentence. was nominated in Documentary (Short Subject) for Rayka Zehtabchi and Melissa Berton\" and Won.\n",
      "Black Sheep was nominated in Documentary (Short Subject) for Ed Perkins and Jonathan Chinn\" and Lost.\n",
      "End Game was nominated in Documentary (Short Subject) for Rob Epstein and Jeffrey Friedman\" and Lost.\n",
      "Lifeboat was nominated in Documentary (Short Subject) for Skye Fitzgerald and Bryn Mooser\" and Lost.\n",
      "A Night at The Garden was nominated in Documentary (Short Subject) for Marshall Curry\" and Lost.\n",
      "Bohemian Rhapsody was nominated in Film Editing for John Ottman\" and Won.\n",
      "BlacKkKlansman was nominated in Film Editing for Barry Alexander Brown\" and Lost.\n",
      "The Favourite was nominated in Film Editing for Yorgos Mavropsaridis\" and Lost.\n",
      "Green Book was nominated in Film Editing for Patrick J. Don Vito\" and Lost.\n",
      "Vice was nominated in Film Editing for Hank Corwin\" and Lost.\n",
      "Roma was nominated in Foreign Language Film for Mexico\" and Won.\n",
      "Capernaum was nominated in Foreign Language Film for Lebanon\" and Lost.\n",
      "Cold War was nominated in Foreign Language Film for Poland\" and Lost.\n",
      "Never Look Away was nominated in Foreign Language Film for Germany\" and Lost.\n",
      "Shoplifters was nominated in Foreign Language Film for Japan\" and Lost.\n",
      "Vice was nominated in Makeup and Hairstyling for Greg Cannom, Kate Biscoe and Patricia Dehaney\" and Won.\n",
      "Border was nominated in Makeup and Hairstyling for Göran Lundström and Pamela Goldammer\" and Lost.\n",
      "Mary Queen of Scots was nominated in Makeup and Hairstyling for Jenny Shircore, Marc Pilcher and Jessica Brooks\" and Lost.\n",
      "Black Panther was nominated in Music (Original Score) for Ludwig Goransson\" and Won.\n",
      "BlacKkKlansman was nominated in Music (Original Score) for Terence Blanchard\" and Lost.\n",
      "If Beale Street Could Talk was nominated in Music (Original Score) for Nicholas Britell\" and Lost.\n",
      "Isle of Dogs was nominated in Music (Original Score) for Alexandre Desplat\" and Lost.\n",
      "Mary Poppins Returns was nominated in Music (Original Score) for Marc Shaiman\" and Lost.\n",
      "Shallow was nominated in Music (Original Song) for from A Star Is Born; Music and Lyric by Lady Gaga, Mark Ronson, Anthony Rossomando and Andrew Wyatt\" and Won.\n",
      "All The Stars was nominated in Music (Original Song) for from Black Panther; Music by Kendrick Lamar, Mark “Sounwave” Spears and Anthony “Top Dawg” Tiffith; Lyric by Kendrick Lamar, SZA and Anthony “Top Dawg” Tiffith\" and Lost.\n",
      "I'll Fight was nominated in Music (Original Song) for from RBG; Music and Lyric by Diane Warren\" and Lost.\n",
      "The Place Where Lost Things Go was nominated in Music (Original Song) for from Mary Poppins Returns; Music by Marc Shaiman; Lyric by Scott Wittman and Marc Shaiman\" and Lost.\n",
      "When A Cowboy Trades His Spurs For Wings was nominated in Music (Original Song) for from The Ballad of Buster Scruggs; Music and Lyric by Gillian Welch and David Rawlings\" and Lost.\n",
      "Green Book was nominated in Best Picture for Jim Burke, Charles B. Wessler, Brian Currie, Peter Farrelly and Nick Vallelonga, Producers\" and Won.\n",
      "Black Panther was nominated in Best Picture for Kevin Feige, Producer\" and Lost.\n",
      "BlacKkKlansman was nominated in Best Picture for Sean McKittrick, Jason Blum, Raymond Mansfield, Jordan Peele and Spike Lee, Producers\" and Lost.\n",
      "Bohemian Rhapsody was nominated in Best Picture for Graham King, Producer\" and Lost.\n",
      "The Favourite was nominated in Best Picture for Ceci Dempsey, Ed Guiney, Lee Magiday and Yorgos Lanthimos, Producers\" and Lost.\n",
      "Roma was nominated in Best Picture for Gabriela Rodríguez and Alfonso Cuarón, Producers\" and Lost.\n",
      "A Star Is Born was nominated in Best Picture for Bill Gerber, Bradley Cooper and Lynette Howell Taylor, Producers\" and Lost.\n",
      "Vice was nominated in Best Picture for Dede Gardner, Jeremy Kleiner, Adam McKay and Kevin Messick, Producers\" and Lost.\n",
      "Black Panther was nominated in Production Design for Production Design: Hannah Beachler; Set Decoration: Jay Hart\" and Won.\n",
      "The Favourite was nominated in Production Design for Production Design: Fiona Crombie; Set Decoration: Alice Felton\" and Lost.\n",
      "First Man was nominated in Production Design for Production Design: Nathan Crowley; Set Decoration: Kathy Lucas\" and Lost.\n",
      "Mary Poppins Returns was nominated in Production Design for Production Design: John Myhre; Set Decoration: Gordon Sim\" and Lost.\n",
      "Roma was nominated in Production Design for Production Design: Eugenio Caballero; Set Decoration: Bárbara Enríquez\" and Lost.\n",
      "Bao was nominated in Short Film (Animated) for Domee Shi and Becky Neiman-Cobb\" and Won.\n",
      "Animal Behaviour was nominated in Short Film (Animated) for Alison Snowden and David Fine\" and Lost.\n",
      "Late Afternoon was nominated in Short Film (Animated) for Louise Bagnall and Nuria González Blanco\" and Lost.\n",
      "One Small Step was nominated in Short Film (Animated) for Andrew Chesworth and Bobby Pontillas\" and Lost.\n",
      "Weekends was nominated in Short Film (Animated) for Trevor Jimenez\" and Lost.\n",
      "Skin was nominated in Short Film (Live Action) for Guy Nattiv and Jaime Ray Newman\" and Won.\n",
      "Detainment was nominated in Short Film (Live Action) for Vincent Lambe and Darren Mahon\" and Lost.\n",
      "Fauve was nominated in Short Film (Live Action) for Jeremy Comte and Maria Gracia Turgeon\" and Lost.\n",
      "Marguerite was nominated in Short Film (Live Action) for Marianne Farley and Marie-Hélène Panisset\" and Lost.\n",
      "Mother was nominated in Short Film (Live Action) for Rodrigo Sorogoyen and María del Puy Alvarado\" and Lost.\n",
      "Bohemian Rhapsody was nominated in Sound Editing for John Warhurst and Nina Hartstone\" and Won.\n",
      "Black Panther was nominated in Sound Editing for Benjamin A. Burtt and Steve Boeddeker\" and Lost.\n",
      "First Man was nominated in Sound Editing for Ai-Ling Lee and Mildred Iatrou Morgan\" and Lost.\n",
      "A Quiet Place was nominated in Sound Editing for Ethan Van der Ryn and Erik Aadahl\" and Lost.\n",
      "Roma was nominated in Sound Editing for Sergio Díaz and Skip Lievsay\" and Lost.\n",
      "Bohemian Rhapsody was nominated in Sound Mixing for Paul Massey, Tim Cavagin and John Casali\" and Won.\n",
      "Black Panther was nominated in Sound Mixing for Steve Boeddeker, Brandon Proctor and Peter Devlin\" and Lost.\n",
      "First Man was nominated in Sound Mixing for Jon Taylor, Frank A. Montaño, Ai-Ling Lee and Mary H. Ellis\" and Lost.\n",
      "Roma was nominated in Sound Mixing for Skip Lievsay, Craig Henighan and José Antonio García\" and Lost.\n",
      "A Star Is Born was nominated in Sound Mixing for Tom Ozanich, Dean Zupancic, Jason Ruder and Steve Morrow\" and Lost.\n",
      "First Man was nominated in Visual Effects for Paul Lambert, Ian Hunter, Tristan Myles and J.D. Schwalm\" and Won.\n",
      "Avengers: Infinity War was nominated in Visual Effects for Dan DeLeeuw, Kelly Port, Russell Earl and Dan Sudick\" and Lost.\n",
      "Christopher Robin was nominated in Visual Effects for Christopher Lawrence, Michael Eames, Theo Jones and Chris Corbould\" and Lost.\n",
      "Ready Player One was nominated in Visual Effects for Roger Guyett, Grady Cofer, Matthew E. Butler and David Shirk\" and Lost.\n",
      "Solo: A Star Wars Story was nominated in Visual Effects for Rob Bredow, Patrick Tubach, Neal Scanlan and Dominic Tuohy\" and Lost.\n",
      "BlacKkKlansman was nominated in Writing (Adapted Screenplay) for Written by Charlie Wachtel & David Rabinowitz and Kevin Willmott & Spike Lee\" and Won.\n",
      "The Ballad of Buster Scruggs was nominated in Writing (Adapted Screenplay) for Written by Joel Coen & Ethan Coen\" and Lost.\n",
      "Can You Ever Forgive Me? was nominated in Writing (Adapted Screenplay) for Screenplay by Nicole Holofcener and Jeff Whitty\" and Lost.\n",
      "If Beale Street Could Talk was nominated in Writing (Adapted Screenplay) for Written for the screen by Barry Jenkins\" and Lost.\n",
      "A Star Is Born was nominated in Writing (Adapted Screenplay) for Screenplay by Eric Roth and Bradley Cooper & Will Fetters\" and Lost.\n",
      "Green Book was nominated in Writing (Original Screenplay) for Written by Nick Vallelonga, Brian Currie, Peter Farrelly\" and Won.\n",
      "The Favourite was nominated in Writing (Original Screenplay) for Written by Deborah Davis and Tony McNamara\" and Lost.\n",
      "First Reformed was nominated in Writing (Original Screenplay) for Written by Paul Schrader\" and Lost.\n",
      "Roma was nominated in Writing (Original Screenplay) for Written by Alfonso Cuarón\" and Lost.\n",
      "Vice was nominated in Writing (Original Screenplay) for Written by Adam McKay\" and Lost.\n"
     ]
    }
   ],
   "source": [
    "#new format of 'name' 'category' 'movie' and 'winner'\n",
    "for group in oscars2019_true_groups:\n",
    "    category = group.find_all('h2')[0].text\n",
    "    \n",
    "    for i,nominee in enumerate(group.find_all('div',{'class':'views-row'})):\n",
    "        if i == 0:\n",
    "            winner = 'Won'\n",
    "        else:\n",
    "            winner = 'Lost'\n",
    "\n",
    "        subdivs = nominee.find_all('div')\n",
    "        name = subdivs[0].text.strip()\n",
    "        movie = subdivs[1].text.strip()\n",
    "\n",
    "        print(\"{0} was nominated in {1} for {2}\\\" and {3}.\".format(name,category,movie,winner))"
   ]
  },
  {
   "cell_type": "code",
   "execution_count": 53,
   "metadata": {},
   "outputs": [
    {
     "name": "stdout",
     "output_type": "stream",
     "text": [
      "Rami Malek was nominated in Actor in a Leading Role for \"Bohemian Rhapsody\" and Won.\n",
      "Christian Bale was nominated in Actor in a Leading Role for \"Vice\" and Lost.\n",
      "Bradley Cooper was nominated in Actor in a Leading Role for \"A Star Is Born\" and Lost.\n",
      "Willem Dafoe was nominated in Actor in a Leading Role for \"At Eternity's Gate\" and Lost.\n",
      "Viggo Mortensen was nominated in Actor in a Leading Role for \"Green Book\" and Lost.\n",
      "Mahershala Ali was nominated in Actor in a Supporting Role for \"Green Book\" and Won.\n",
      "Adam Driver was nominated in Actor in a Supporting Role for \"BlacKkKlansman\" and Lost.\n",
      "Sam Elliott was nominated in Actor in a Supporting Role for \"A Star Is Born\" and Lost.\n",
      "Richard E. Grant was nominated in Actor in a Supporting Role for \"Can You Ever Forgive Me?\" and Lost.\n",
      "Sam Rockwell was nominated in Actor in a Supporting Role for \"Vice\" and Lost.\n",
      "Olivia Colman was nominated in Actress in a Leading Role for \"The Favourite\" and Won.\n",
      "Yalitza Aparicio was nominated in Actress in a Leading Role for \"Roma\" and Lost.\n",
      "Glenn Close was nominated in Actress in a Leading Role for \"The Wife\" and Lost.\n",
      "Lady Gaga was nominated in Actress in a Leading Role for \"A Star Is Born\" and Lost.\n",
      "Melissa McCarthy was nominated in Actress in a Leading Role for \"Can You Ever Forgive Me?\" and Lost.\n",
      "Regina King was nominated in Actress in a Supporting Role for \"If Beale Street Could Talk\" and Won.\n",
      "Amy Adams was nominated in Actress in a Supporting Role for \"Vice\" and Lost.\n",
      "Marina de Tavira was nominated in Actress in a Supporting Role for \"Roma\" and Lost.\n",
      "Emma Stone was nominated in Actress in a Supporting Role for \"The Favourite\" and Lost.\n",
      "Rachel Weisz was nominated in Actress in a Supporting Role for \"The Favourite\" and Lost.\n",
      "\"Bob Persichetti, Peter Ramsey, Rodney Rothman, Phil Lord and Christopher Miller\" was nominated in Animated Feature Film for Spider-Man: Into the Spider-Verse and Won.\n",
      "\"Brad Bird, John Walker and Nicole Paradis Grindle\" was nominated in Animated Feature Film for Incredibles 2 and Lost.\n",
      "\"Wes Anderson, Scott Rudin, Steven Rales and Jeremy Dawson\" was nominated in Animated Feature Film for Isle of Dogs and Lost.\n",
      "\"Mamoru Hosoda and Yuichiro Saito\" was nominated in Animated Feature Film for Mirai and Lost.\n",
      "\"Rich Moore, Phil Johnston and Clark Spencer\" was nominated in Animated Feature Film for Ralph Breaks the Internet and Lost.\n",
      "\"Alfonso Cuarón\" was nominated in Cinematography for Roma and Won.\n",
      "\"Łukasz Żal\" was nominated in Cinematography for Cold War and Lost.\n",
      "\"Robbie Ryan\" was nominated in Cinematography for The Favourite and Lost.\n",
      "\"Caleb Deschanel\" was nominated in Cinematography for Never Look Away and Lost.\n",
      "\"Matthew Libatique\" was nominated in Cinematography for A Star Is Born and Lost.\n",
      "\"Ruth Carter\" was nominated in Costume Design for Black Panther and Won.\n",
      "\"Mary Zophres\" was nominated in Costume Design for The Ballad of Buster Scruggs and Lost.\n",
      "\"Sandy Powell\" was nominated in Costume Design for The Favourite and Lost.\n",
      "\"Sandy Powell\" was nominated in Costume Design for Mary Poppins Returns and Lost.\n",
      "\"Alexandra Byrne\" was nominated in Costume Design for Mary Queen of Scots and Lost.\n",
      "\"Alfonso Cuarón\" was nominated in Directing for Roma and Won.\n",
      "\"Spike Lee\" was nominated in Directing for BlacKkKlansman and Lost.\n",
      "\"Paweł Pawlikowski\" was nominated in Directing for Cold War and Lost.\n",
      "\"Yorgos Lanthimos\" was nominated in Directing for The Favourite and Lost.\n",
      "\"Adam McKay\" was nominated in Directing for Vice and Lost.\n",
      "\"Elizabeth Chai Vasarhelyi, Jimmy Chin, Evan Hayes and Shannon Dill\" was nominated in Documentary (Feature) for Free Solo and Won.\n",
      "\"RaMell Ross, Joslyn Barnes and Su Kim\" was nominated in Documentary (Feature) for Hale County This Morning, This Evening and Lost.\n",
      "\"Bing Liu and Diane Quon\" was nominated in Documentary (Feature) for Minding the Gap and Lost.\n",
      "\"Talal Derki, Ansgar Frerich, Eva Kemme and Tobias N. Siebert\" was nominated in Documentary (Feature) for Of Fathers and Sons and Lost.\n",
      "\"Betsy West and Julie Cohen\" was nominated in Documentary (Feature) for RBG and Lost.\n",
      "\"Rayka Zehtabchi and Melissa Berton\" was nominated in Documentary (Short Subject) for Period. End of Sentence. and Won.\n",
      "\"Ed Perkins and Jonathan Chinn\" was nominated in Documentary (Short Subject) for Black Sheep and Lost.\n",
      "\"Rob Epstein and Jeffrey Friedman\" was nominated in Documentary (Short Subject) for End Game and Lost.\n",
      "\"Skye Fitzgerald and Bryn Mooser\" was nominated in Documentary (Short Subject) for Lifeboat and Lost.\n",
      "\"Marshall Curry\" was nominated in Documentary (Short Subject) for A Night at The Garden and Lost.\n",
      "\"John Ottman\" was nominated in Film Editing for Bohemian Rhapsody and Won.\n",
      "\"Barry Alexander Brown\" was nominated in Film Editing for BlacKkKlansman and Lost.\n",
      "\"Yorgos Mavropsaridis\" was nominated in Film Editing for The Favourite and Lost.\n",
      "\"Patrick J. Don Vito\" was nominated in Film Editing for Green Book and Lost.\n",
      "\"Hank Corwin\" was nominated in Film Editing for Vice and Lost.\n",
      "\"Mexico\" was nominated in Foreign Language Film for Roma and Won.\n",
      "\"Lebanon\" was nominated in Foreign Language Film for Capernaum and Lost.\n",
      "\"Poland\" was nominated in Foreign Language Film for Cold War and Lost.\n",
      "\"Germany\" was nominated in Foreign Language Film for Never Look Away and Lost.\n",
      "\"Japan\" was nominated in Foreign Language Film for Shoplifters and Lost.\n",
      "\"Greg Cannom, Kate Biscoe and Patricia Dehaney\" was nominated in Makeup and Hairstyling for Vice and Won.\n",
      "\"Göran Lundström and Pamela Goldammer\" was nominated in Makeup and Hairstyling for Border and Lost.\n",
      "\"Jenny Shircore, Marc Pilcher and Jessica Brooks\" was nominated in Makeup and Hairstyling for Mary Queen of Scots and Lost.\n",
      "\"Ludwig Goransson\" was nominated in Music (Original Score) for Black Panther and Won.\n",
      "\"Terence Blanchard\" was nominated in Music (Original Score) for BlacKkKlansman and Lost.\n",
      "\"Nicholas Britell\" was nominated in Music (Original Score) for If Beale Street Could Talk and Lost.\n",
      "\"Alexandre Desplat\" was nominated in Music (Original Score) for Isle of Dogs and Lost.\n",
      "\"Marc Shaiman\" was nominated in Music (Original Score) for Mary Poppins Returns and Lost.\n",
      "\"from A Star Is Born; Music and Lyric by Lady Gaga, Mark Ronson, Anthony Rossomando and Andrew Wyatt\" was nominated in Music (Original Song) for Shallow and Won.\n",
      "\"from Black Panther; Music by Kendrick Lamar, Mark “Sounwave” Spears and Anthony “Top Dawg” Tiffith; Lyric by Kendrick Lamar, SZA and Anthony “Top Dawg” Tiffith\" was nominated in Music (Original Song) for All The Stars and Lost.\n",
      "\"from RBG; Music and Lyric by Diane Warren\" was nominated in Music (Original Song) for I'll Fight and Lost.\n",
      "\"from Mary Poppins Returns; Music by Marc Shaiman; Lyric by Scott Wittman and Marc Shaiman\" was nominated in Music (Original Song) for The Place Where Lost Things Go and Lost.\n",
      "\"from The Ballad of Buster Scruggs; Music and Lyric by Gillian Welch and David Rawlings\" was nominated in Music (Original Song) for When A Cowboy Trades His Spurs For Wings and Lost.\n",
      "\"Jim Burke, Charles B. Wessler, Brian Currie, Peter Farrelly and Nick Vallelonga, Producers\" was nominated in Best Picture for Green Book and Won.\n",
      "\"Kevin Feige, Producer\" was nominated in Best Picture for Black Panther and Lost.\n",
      "\"Sean McKittrick, Jason Blum, Raymond Mansfield, Jordan Peele and Spike Lee, Producers\" was nominated in Best Picture for BlacKkKlansman and Lost.\n",
      "\"Graham King, Producer\" was nominated in Best Picture for Bohemian Rhapsody and Lost.\n",
      "\"Ceci Dempsey, Ed Guiney, Lee Magiday and Yorgos Lanthimos, Producers\" was nominated in Best Picture for The Favourite and Lost.\n",
      "\"Gabriela Rodríguez and Alfonso Cuarón, Producers\" was nominated in Best Picture for Roma and Lost.\n",
      "\"Bill Gerber, Bradley Cooper and Lynette Howell Taylor, Producers\" was nominated in Best Picture for A Star Is Born and Lost.\n",
      "\"Dede Gardner, Jeremy Kleiner, Adam McKay and Kevin Messick, Producers\" was nominated in Best Picture for Vice and Lost.\n",
      "\"Production Design: Hannah Beachler; Set Decoration: Jay Hart\" was nominated in Production Design for Black Panther and Won.\n",
      "\"Production Design: Fiona Crombie; Set Decoration: Alice Felton\" was nominated in Production Design for The Favourite and Lost.\n",
      "\"Production Design: Nathan Crowley; Set Decoration: Kathy Lucas\" was nominated in Production Design for First Man and Lost.\n",
      "\"Production Design: John Myhre; Set Decoration: Gordon Sim\" was nominated in Production Design for Mary Poppins Returns and Lost.\n",
      "\"Production Design: Eugenio Caballero; Set Decoration: Bárbara Enríquez\" was nominated in Production Design for Roma and Lost.\n",
      "\"Domee Shi and Becky Neiman-Cobb\" was nominated in Short Film (Animated) for Bao and Won.\n",
      "\"Alison Snowden and David Fine\" was nominated in Short Film (Animated) for Animal Behaviour and Lost.\n",
      "\"Louise Bagnall and Nuria González Blanco\" was nominated in Short Film (Animated) for Late Afternoon and Lost.\n",
      "\"Andrew Chesworth and Bobby Pontillas\" was nominated in Short Film (Animated) for One Small Step and Lost.\n",
      "\"Trevor Jimenez\" was nominated in Short Film (Animated) for Weekends and Lost.\n",
      "\"Guy Nattiv and Jaime Ray Newman\" was nominated in Short Film (Live Action) for Skin and Won.\n",
      "\"Vincent Lambe and Darren Mahon\" was nominated in Short Film (Live Action) for Detainment and Lost.\n",
      "\"Jeremy Comte and Maria Gracia Turgeon\" was nominated in Short Film (Live Action) for Fauve and Lost.\n",
      "\"Marianne Farley and Marie-Hélène Panisset\" was nominated in Short Film (Live Action) for Marguerite and Lost.\n",
      "\"Rodrigo Sorogoyen and María del Puy Alvarado\" was nominated in Short Film (Live Action) for Mother and Lost.\n",
      "\"John Warhurst and Nina Hartstone\" was nominated in Sound Editing for Bohemian Rhapsody and Won.\n",
      "\"Benjamin A. Burtt and Steve Boeddeker\" was nominated in Sound Editing for Black Panther and Lost.\n",
      "\"Ai-Ling Lee and Mildred Iatrou Morgan\" was nominated in Sound Editing for First Man and Lost.\n",
      "\"Ethan Van der Ryn and Erik Aadahl\" was nominated in Sound Editing for A Quiet Place and Lost.\n",
      "\"Sergio Díaz and Skip Lievsay\" was nominated in Sound Editing for Roma and Lost.\n",
      "\"Paul Massey, Tim Cavagin and John Casali\" was nominated in Sound Mixing for Bohemian Rhapsody and Won.\n",
      "\"Steve Boeddeker, Brandon Proctor and Peter Devlin\" was nominated in Sound Mixing for Black Panther and Lost.\n",
      "\"Jon Taylor, Frank A. Montaño, Ai-Ling Lee and Mary H. Ellis\" was nominated in Sound Mixing for First Man and Lost.\n",
      "\"Skip Lievsay, Craig Henighan and José Antonio García\" was nominated in Sound Mixing for Roma and Lost.\n",
      "\"Tom Ozanich, Dean Zupancic, Jason Ruder and Steve Morrow\" was nominated in Sound Mixing for A Star Is Born and Lost.\n",
      "\"Paul Lambert, Ian Hunter, Tristan Myles and J.D. Schwalm\" was nominated in Visual Effects for First Man and Won.\n",
      "\"Dan DeLeeuw, Kelly Port, Russell Earl and Dan Sudick\" was nominated in Visual Effects for Avengers: Infinity War and Lost.\n",
      "\"Christopher Lawrence, Michael Eames, Theo Jones and Chris Corbould\" was nominated in Visual Effects for Christopher Robin and Lost.\n",
      "\"Roger Guyett, Grady Cofer, Matthew E. Butler and David Shirk\" was nominated in Visual Effects for Ready Player One and Lost.\n",
      "\"Rob Bredow, Patrick Tubach, Neal Scanlan and Dominic Tuohy\" was nominated in Visual Effects for Solo: A Star Wars Story and Lost.\n",
      "\"Written by Charlie Wachtel & David Rabinowitz and Kevin Willmott & Spike Lee\" was nominated in Writing (Adapted Screenplay) for BlacKkKlansman and Won.\n",
      "\"Written by Joel Coen & Ethan Coen\" was nominated in Writing (Adapted Screenplay) for The Ballad of Buster Scruggs and Lost.\n",
      "\"Screenplay by Nicole Holofcener and Jeff Whitty\" was nominated in Writing (Adapted Screenplay) for Can You Ever Forgive Me? and Lost.\n",
      "\"Written for the screen by Barry Jenkins\" was nominated in Writing (Adapted Screenplay) for If Beale Street Could Talk and Lost.\n",
      "\"Screenplay by Eric Roth and Bradley Cooper & Will Fetters\" was nominated in Writing (Adapted Screenplay) for A Star Is Born and Lost.\n",
      "\"Written by Nick Vallelonga, Brian Currie, Peter Farrelly\" was nominated in Writing (Original Screenplay) for Green Book and Won.\n",
      "\"Written by Deborah Davis and Tony McNamara\" was nominated in Writing (Original Screenplay) for The Favourite and Lost.\n",
      "\"Written by Paul Schrader\" was nominated in Writing (Original Screenplay) for First Reformed and Lost.\n",
      "\"Written by Alfonso Cuarón\" was nominated in Writing (Original Screenplay) for Roma and Lost.\n",
      "\"Written by Adam McKay\" was nominated in Writing (Original Screenplay) for Vice and Lost.\n"
     ]
    }
   ],
   "source": [
    "for group in oscars2019_true_groups:\n",
    "    category = group.find_all('h2')[0].text\n",
    "    \n",
    "    if 'Actor' in category or 'Actress' in category:\n",
    "    \n",
    "        for i,nominee in enumerate(group.find_all('div',{'class':'views-row'})):\n",
    "            if i == 0:\n",
    "                winner = 'Won'\n",
    "            else:\n",
    "                winner = 'Lost'\n",
    "\n",
    "            subdivs = nominee.find_all('div')\n",
    "            name = subdivs[0].text.strip()\n",
    "            movie = subdivs[1].text.strip()\n",
    "\n",
    "            print(\"{0} was nominated in {1} for \\\"{2}\\\" and {3}.\".format(name,category,movie,winner))\n",
    "            \n",
    "    else:\n",
    "        \n",
    "        for i,nominee in enumerate(group.find_all('div',{'class':'views-row'})):\n",
    "            if i == 0:\n",
    "                winner = 'Won'\n",
    "            else:\n",
    "                winner = 'Lost'\n",
    "\n",
    "            subdivs = nominee.find_all('div')\n",
    "            movie = subdivs[0].text.strip()\n",
    "            name = subdivs[1].text.strip()\n",
    "\n",
    "            print(\"\\\"{0}\\\" was nominated in {1} for {2} and {3}.\".format(name,category,movie,winner))"
   ]
  },
  {
   "cell_type": "code",
   "execution_count": 54,
   "metadata": {},
   "outputs": [],
   "source": [
    "#store info in 'nominees_2019' to turn into a dataframe\n",
    "nominees_2019 = []\n",
    "\n",
    "for group in oscars2019_true_groups:\n",
    "    category = group.find_all('h2')[0].text\n",
    "    \n",
    "    if 'Actor' in category or 'Actress' in category:\n",
    "    \n",
    "        for i,nominee in enumerate(group.find_all('div',{'class':'views-row'})):\n",
    "            if i == 0:\n",
    "                winner = 'Won'\n",
    "            else:\n",
    "                winner = 'Lost'\n",
    "\n",
    "            subdivs = nominee.find_all('div')\n",
    "            name = subdivs[0].text.strip()\n",
    "            movie = subdivs[1].text.strip()\n",
    "            \n",
    "            nominee_payload = {'Category':category,\n",
    "                               'Name':name,\n",
    "                               'Movie':movie,\n",
    "                               'Year':2019, \n",
    "                               'Winner':winner}\n",
    "            \n",
    "            nominees_2019.append(nominee_payload)\n",
    "            \n",
    "    else:\n",
    "        \n",
    "        for i,nominee in enumerate(group.find_all('div',{'class':'views-row'})):\n",
    "            if i == 0:\n",
    "                winner = 'Won'\n",
    "            else:\n",
    "                winner = 'Lost'\n",
    "\n",
    "            subdivs = nominee.find_all('div')\n",
    "            movie = subdivs[0].text.strip()\n",
    "            name = subdivs[1].text.strip()\n",
    "\n",
    "            nominee_payload = {'Category':category,\n",
    "                               'Name':name,\n",
    "                               'Movie':movie,\n",
    "                               'Year':2018,\n",
    "                               'Winner':winner}\n",
    "            \n",
    "            nominees_2019.append(nominee_payload)"
   ]
  },
  {
   "cell_type": "code",
   "execution_count": 55,
   "metadata": {},
   "outputs": [
    {
     "data": {
      "text/html": [
       "<div>\n",
       "<style scoped>\n",
       "    .dataframe tbody tr th:only-of-type {\n",
       "        vertical-align: middle;\n",
       "    }\n",
       "\n",
       "    .dataframe tbody tr th {\n",
       "        vertical-align: top;\n",
       "    }\n",
       "\n",
       "    .dataframe thead th {\n",
       "        text-align: right;\n",
       "    }\n",
       "</style>\n",
       "<table border=\"1\" class=\"dataframe\">\n",
       "  <thead>\n",
       "    <tr style=\"text-align: right;\">\n",
       "      <th></th>\n",
       "      <th>Category</th>\n",
       "      <th>Name</th>\n",
       "      <th>Movie</th>\n",
       "      <th>Year</th>\n",
       "      <th>Winner</th>\n",
       "    </tr>\n",
       "  </thead>\n",
       "  <tbody>\n",
       "    <tr>\n",
       "      <td>0</td>\n",
       "      <td>Actor in a Leading Role</td>\n",
       "      <td>Rami Malek</td>\n",
       "      <td>Bohemian Rhapsody</td>\n",
       "      <td>2019</td>\n",
       "      <td>Won</td>\n",
       "    </tr>\n",
       "    <tr>\n",
       "      <td>1</td>\n",
       "      <td>Actor in a Leading Role</td>\n",
       "      <td>Christian Bale</td>\n",
       "      <td>Vice</td>\n",
       "      <td>2019</td>\n",
       "      <td>Lost</td>\n",
       "    </tr>\n",
       "    <tr>\n",
       "      <td>2</td>\n",
       "      <td>Actor in a Leading Role</td>\n",
       "      <td>Bradley Cooper</td>\n",
       "      <td>A Star Is Born</td>\n",
       "      <td>2019</td>\n",
       "      <td>Lost</td>\n",
       "    </tr>\n",
       "    <tr>\n",
       "      <td>3</td>\n",
       "      <td>Actor in a Leading Role</td>\n",
       "      <td>Willem Dafoe</td>\n",
       "      <td>At Eternity's Gate</td>\n",
       "      <td>2019</td>\n",
       "      <td>Lost</td>\n",
       "    </tr>\n",
       "    <tr>\n",
       "      <td>4</td>\n",
       "      <td>Actor in a Leading Role</td>\n",
       "      <td>Viggo Mortensen</td>\n",
       "      <td>Green Book</td>\n",
       "      <td>2019</td>\n",
       "      <td>Lost</td>\n",
       "    </tr>\n",
       "    <tr>\n",
       "      <td>5</td>\n",
       "      <td>Actor in a Supporting Role</td>\n",
       "      <td>Mahershala Ali</td>\n",
       "      <td>Green Book</td>\n",
       "      <td>2019</td>\n",
       "      <td>Won</td>\n",
       "    </tr>\n",
       "    <tr>\n",
       "      <td>6</td>\n",
       "      <td>Actor in a Supporting Role</td>\n",
       "      <td>Adam Driver</td>\n",
       "      <td>BlacKkKlansman</td>\n",
       "      <td>2019</td>\n",
       "      <td>Lost</td>\n",
       "    </tr>\n",
       "    <tr>\n",
       "      <td>7</td>\n",
       "      <td>Actor in a Supporting Role</td>\n",
       "      <td>Sam Elliott</td>\n",
       "      <td>A Star Is Born</td>\n",
       "      <td>2019</td>\n",
       "      <td>Lost</td>\n",
       "    </tr>\n",
       "    <tr>\n",
       "      <td>8</td>\n",
       "      <td>Actor in a Supporting Role</td>\n",
       "      <td>Richard E. Grant</td>\n",
       "      <td>Can You Ever Forgive Me?</td>\n",
       "      <td>2019</td>\n",
       "      <td>Lost</td>\n",
       "    </tr>\n",
       "    <tr>\n",
       "      <td>9</td>\n",
       "      <td>Actor in a Supporting Role</td>\n",
       "      <td>Sam Rockwell</td>\n",
       "      <td>Vice</td>\n",
       "      <td>2019</td>\n",
       "      <td>Lost</td>\n",
       "    </tr>\n",
       "  </tbody>\n",
       "</table>\n",
       "</div>"
      ],
      "text/plain": [
       "                     Category              Name                     Movie  \\\n",
       "0     Actor in a Leading Role        Rami Malek         Bohemian Rhapsody   \n",
       "1     Actor in a Leading Role    Christian Bale                      Vice   \n",
       "2     Actor in a Leading Role    Bradley Cooper            A Star Is Born   \n",
       "3     Actor in a Leading Role      Willem Dafoe        At Eternity's Gate   \n",
       "4     Actor in a Leading Role   Viggo Mortensen                Green Book   \n",
       "5  Actor in a Supporting Role    Mahershala Ali                Green Book   \n",
       "6  Actor in a Supporting Role       Adam Driver            BlacKkKlansman   \n",
       "7  Actor in a Supporting Role       Sam Elliott            A Star Is Born   \n",
       "8  Actor in a Supporting Role  Richard E. Grant  Can You Ever Forgive Me?   \n",
       "9  Actor in a Supporting Role      Sam Rockwell                      Vice   \n",
       "\n",
       "   Year Winner  \n",
       "0  2019    Won  \n",
       "1  2019   Lost  \n",
       "2  2019   Lost  \n",
       "3  2019   Lost  \n",
       "4  2019   Lost  \n",
       "5  2019    Won  \n",
       "6  2019   Lost  \n",
       "7  2019   Lost  \n",
       "8  2019   Lost  \n",
       "9  2019   Lost  "
      ]
     },
     "execution_count": 55,
     "metadata": {},
     "output_type": "execute_result"
    }
   ],
   "source": [
    "#pandas dataframe of 2019 nominees\n",
    "nominees_df = pd.DataFrame(nominees_2019)\n",
    "nominees_df.head(10)"
   ]
  },
  {
   "cell_type": "code",
   "execution_count": 56,
   "metadata": {},
   "outputs": [
    {
     "ename": "FileCreateError",
     "evalue": "[Errno 2] No such file or directory: 'C:\\\\Users\\\\Shailaja\\\\Documents\\\\college`\\\\2019 spring\\\\ban 172 - web analytics\\\\final project\\\\oscars_allyr.xlsx'",
     "output_type": "error",
     "traceback": [
      "\u001b[1;31m---------------------------------------------------------------------------\u001b[0m",
      "\u001b[1;31mFileNotFoundError\u001b[0m                         Traceback (most recent call last)",
      "\u001b[1;32m~\\Anaconda3\\lib\\site-packages\\xlsxwriter\\workbook.py\u001b[0m in \u001b[0;36mclose\u001b[1;34m(self)\u001b[0m\n\u001b[0;32m    310\u001b[0m             \u001b[1;32mtry\u001b[0m\u001b[1;33m:\u001b[0m\u001b[1;33m\u001b[0m\u001b[1;33m\u001b[0m\u001b[0m\n\u001b[1;32m--> 311\u001b[1;33m                 \u001b[0mself\u001b[0m\u001b[1;33m.\u001b[0m\u001b[0m_store_workbook\u001b[0m\u001b[1;33m(\u001b[0m\u001b[1;33m)\u001b[0m\u001b[1;33m\u001b[0m\u001b[1;33m\u001b[0m\u001b[0m\n\u001b[0m\u001b[0;32m    312\u001b[0m             \u001b[1;32mexcept\u001b[0m \u001b[0mIOError\u001b[0m \u001b[1;32mas\u001b[0m \u001b[0me\u001b[0m\u001b[1;33m:\u001b[0m\u001b[1;33m\u001b[0m\u001b[1;33m\u001b[0m\u001b[0m\n",
      "\u001b[1;32m~\\Anaconda3\\lib\\site-packages\\xlsxwriter\\workbook.py\u001b[0m in \u001b[0;36m_store_workbook\u001b[1;34m(self)\u001b[0m\n\u001b[0;32m    626\u001b[0m         \u001b[1;32mexcept\u001b[0m \u001b[0mIOError\u001b[0m \u001b[1;32mas\u001b[0m \u001b[0me\u001b[0m\u001b[1;33m:\u001b[0m\u001b[1;33m\u001b[0m\u001b[1;33m\u001b[0m\u001b[0m\n\u001b[1;32m--> 627\u001b[1;33m             \u001b[1;32mraise\u001b[0m \u001b[0me\u001b[0m\u001b[1;33m\u001b[0m\u001b[1;33m\u001b[0m\u001b[0m\n\u001b[0m\u001b[0;32m    628\u001b[0m \u001b[1;33m\u001b[0m\u001b[0m\n",
      "\u001b[1;32m~\\Anaconda3\\lib\\site-packages\\xlsxwriter\\workbook.py\u001b[0m in \u001b[0;36m_store_workbook\u001b[1;34m(self)\u001b[0m\n\u001b[0;32m    624\u001b[0m             xlsx_file = ZipFile(self.filename, \"w\", compression=ZIP_DEFLATED,\n\u001b[1;32m--> 625\u001b[1;33m                                 allowZip64=self.allow_zip64)\n\u001b[0m\u001b[0;32m    626\u001b[0m         \u001b[1;32mexcept\u001b[0m \u001b[0mIOError\u001b[0m \u001b[1;32mas\u001b[0m \u001b[0me\u001b[0m\u001b[1;33m:\u001b[0m\u001b[1;33m\u001b[0m\u001b[1;33m\u001b[0m\u001b[0m\n",
      "\u001b[1;32m~\\Anaconda3\\lib\\zipfile.py\u001b[0m in \u001b[0;36m__init__\u001b[1;34m(self, file, mode, compression, allowZip64, compresslevel)\u001b[0m\n\u001b[0;32m   1206\u001b[0m                 \u001b[1;32mtry\u001b[0m\u001b[1;33m:\u001b[0m\u001b[1;33m\u001b[0m\u001b[1;33m\u001b[0m\u001b[0m\n\u001b[1;32m-> 1207\u001b[1;33m                     \u001b[0mself\u001b[0m\u001b[1;33m.\u001b[0m\u001b[0mfp\u001b[0m \u001b[1;33m=\u001b[0m \u001b[0mio\u001b[0m\u001b[1;33m.\u001b[0m\u001b[0mopen\u001b[0m\u001b[1;33m(\u001b[0m\u001b[0mfile\u001b[0m\u001b[1;33m,\u001b[0m \u001b[0mfilemode\u001b[0m\u001b[1;33m)\u001b[0m\u001b[1;33m\u001b[0m\u001b[1;33m\u001b[0m\u001b[0m\n\u001b[0m\u001b[0;32m   1208\u001b[0m                 \u001b[1;32mexcept\u001b[0m \u001b[0mOSError\u001b[0m\u001b[1;33m:\u001b[0m\u001b[1;33m\u001b[0m\u001b[1;33m\u001b[0m\u001b[0m\n",
      "\u001b[1;31mFileNotFoundError\u001b[0m: [Errno 2] No such file or directory: 'C:\\\\Users\\\\Shailaja\\\\Documents\\\\college`\\\\2019 spring\\\\ban 172 - web analytics\\\\final project\\\\oscars_allyr.xlsx'",
      "\nDuring handling of the above exception, another exception occurred:\n",
      "\u001b[1;31mFileCreateError\u001b[0m                           Traceback (most recent call last)",
      "\u001b[1;32m<ipython-input-56-7ec68519f315>\u001b[0m in \u001b[0;36m<module>\u001b[1;34m\u001b[0m\n\u001b[1;32m----> 1\u001b[1;33m \u001b[0mnominees_df\u001b[0m\u001b[1;33m.\u001b[0m\u001b[0mto_excel\u001b[0m\u001b[1;33m(\u001b[0m\u001b[1;34mr'C:\\Users\\Shailaja\\Documents\\college`\\2019 spring\\ban 172 - web analytics\\final project\\oscars_allyr.xlsx'\u001b[0m\u001b[1;33m)\u001b[0m\u001b[1;33m\u001b[0m\u001b[1;33m\u001b[0m\u001b[0m\n\u001b[0m",
      "\u001b[1;32m~\\Anaconda3\\lib\\site-packages\\pandas\\core\\generic.py\u001b[0m in \u001b[0;36mto_excel\u001b[1;34m(self, excel_writer, sheet_name, na_rep, float_format, columns, header, index, index_label, startrow, startcol, engine, merge_cells, encoding, inf_rep, verbose, freeze_panes)\u001b[0m\n\u001b[0;32m   2254\u001b[0m             \u001b[0mstartcol\u001b[0m\u001b[1;33m=\u001b[0m\u001b[0mstartcol\u001b[0m\u001b[1;33m,\u001b[0m\u001b[1;33m\u001b[0m\u001b[1;33m\u001b[0m\u001b[0m\n\u001b[0;32m   2255\u001b[0m             \u001b[0mfreeze_panes\u001b[0m\u001b[1;33m=\u001b[0m\u001b[0mfreeze_panes\u001b[0m\u001b[1;33m,\u001b[0m\u001b[1;33m\u001b[0m\u001b[1;33m\u001b[0m\u001b[0m\n\u001b[1;32m-> 2256\u001b[1;33m             \u001b[0mengine\u001b[0m\u001b[1;33m=\u001b[0m\u001b[0mengine\u001b[0m\u001b[1;33m,\u001b[0m\u001b[1;33m\u001b[0m\u001b[1;33m\u001b[0m\u001b[0m\n\u001b[0m\u001b[0;32m   2257\u001b[0m         )\n\u001b[0;32m   2258\u001b[0m \u001b[1;33m\u001b[0m\u001b[0m\n",
      "\u001b[1;32m~\\Anaconda3\\lib\\site-packages\\pandas\\io\\formats\\excel.py\u001b[0m in \u001b[0;36mwrite\u001b[1;34m(self, writer, sheet_name, startrow, startcol, freeze_panes, engine)\u001b[0m\n\u001b[0;32m    740\u001b[0m         )\n\u001b[0;32m    741\u001b[0m         \u001b[1;32mif\u001b[0m \u001b[0mneed_save\u001b[0m\u001b[1;33m:\u001b[0m\u001b[1;33m\u001b[0m\u001b[1;33m\u001b[0m\u001b[0m\n\u001b[1;32m--> 742\u001b[1;33m             \u001b[0mwriter\u001b[0m\u001b[1;33m.\u001b[0m\u001b[0msave\u001b[0m\u001b[1;33m(\u001b[0m\u001b[1;33m)\u001b[0m\u001b[1;33m\u001b[0m\u001b[1;33m\u001b[0m\u001b[0m\n\u001b[0m",
      "\u001b[1;32m~\\Anaconda3\\lib\\site-packages\\pandas\\io\\excel\\_xlsxwriter.py\u001b[0m in \u001b[0;36msave\u001b[1;34m(self)\u001b[0m\n\u001b[0;32m    193\u001b[0m         \"\"\"\n\u001b[0;32m    194\u001b[0m \u001b[1;33m\u001b[0m\u001b[0m\n\u001b[1;32m--> 195\u001b[1;33m         \u001b[1;32mreturn\u001b[0m \u001b[0mself\u001b[0m\u001b[1;33m.\u001b[0m\u001b[0mbook\u001b[0m\u001b[1;33m.\u001b[0m\u001b[0mclose\u001b[0m\u001b[1;33m(\u001b[0m\u001b[1;33m)\u001b[0m\u001b[1;33m\u001b[0m\u001b[1;33m\u001b[0m\u001b[0m\n\u001b[0m\u001b[0;32m    196\u001b[0m \u001b[1;33m\u001b[0m\u001b[0m\n\u001b[0;32m    197\u001b[0m     def write_cells(\n",
      "\u001b[1;32m~\\Anaconda3\\lib\\site-packages\\xlsxwriter\\workbook.py\u001b[0m in \u001b[0;36mclose\u001b[1;34m(self)\u001b[0m\n\u001b[0;32m    311\u001b[0m                 \u001b[0mself\u001b[0m\u001b[1;33m.\u001b[0m\u001b[0m_store_workbook\u001b[0m\u001b[1;33m(\u001b[0m\u001b[1;33m)\u001b[0m\u001b[1;33m\u001b[0m\u001b[1;33m\u001b[0m\u001b[0m\n\u001b[0;32m    312\u001b[0m             \u001b[1;32mexcept\u001b[0m \u001b[0mIOError\u001b[0m \u001b[1;32mas\u001b[0m \u001b[0me\u001b[0m\u001b[1;33m:\u001b[0m\u001b[1;33m\u001b[0m\u001b[1;33m\u001b[0m\u001b[0m\n\u001b[1;32m--> 313\u001b[1;33m                 \u001b[1;32mraise\u001b[0m \u001b[0mFileCreateError\u001b[0m\u001b[1;33m(\u001b[0m\u001b[0me\u001b[0m\u001b[1;33m)\u001b[0m\u001b[1;33m\u001b[0m\u001b[1;33m\u001b[0m\u001b[0m\n\u001b[0m\u001b[0;32m    314\u001b[0m             \u001b[1;32mexcept\u001b[0m \u001b[0mLargeZipFile\u001b[0m \u001b[1;32mas\u001b[0m \u001b[0me\u001b[0m\u001b[1;33m:\u001b[0m\u001b[1;33m\u001b[0m\u001b[1;33m\u001b[0m\u001b[0m\n\u001b[0;32m    315\u001b[0m                 raise FileSizeError(\"Filesize would require ZIP64 extensions. \"\n",
      "\u001b[1;31mFileCreateError\u001b[0m: [Errno 2] No such file or directory: 'C:\\\\Users\\\\Shailaja\\\\Documents\\\\college`\\\\2019 spring\\\\ban 172 - web analytics\\\\final project\\\\oscars_allyr.xlsx'"
     ]
    }
   ],
   "source": [
    "nominees_df.to_excel(r'C:\\Users\\Shailaja\\Documents\\college`\\2019 spring\\ban 172 - web analytics\\final project\\oscars_allyr.xlsx')"
   ]
  },
  {
   "cell_type": "code",
   "execution_count": 57,
   "metadata": {},
   "outputs": [],
   "source": [
    "#turn parser into a function to apply to other years' nominees\n",
    "def parse_nominees(true_groups,year):\n",
    "    nominees_list = []\n",
    "\n",
    "    for group in true_groups:\n",
    "        category = group.find_all('h2')[0].text\n",
    "\n",
    "        if 'Actor' in category or 'Actress' in category:\n",
    "\n",
    "            for i,nominee in enumerate(group.find_all('div',{'class':'views-row'})):\n",
    "                if i == 0:\n",
    "                    winner = 'Won'\n",
    "                else:\n",
    "                    winner = 'Lost'\n",
    "\n",
    "                subdivs = nominee.find_all('div')\n",
    "                name = subdivs[0].text.strip()\n",
    "                movie = subdivs[1].text.strip()\n",
    "                \n",
    "                nominee_payload = {'Category':category,\n",
    "                                   'Name':name,\n",
    "                                   'Movie':movie,\n",
    "                                   'Year':year,\n",
    "                                   'Winner':winner}\n",
    "\n",
    "                nominees_list.append(nominee_payload)\n",
    "\n",
    "        else:\n",
    "\n",
    "            for i,nominee in enumerate(group.find_all('div',{'class':'views-row'})):\n",
    "                if i == 0:\n",
    "                    winner = 'Won'\n",
    "                else:\n",
    "                    winner = 'Lost'\n",
    "\n",
    "                subdivs = nominee.find_all('div')\n",
    "                movie = subdivs[0].text.strip()\n",
    "                name = subdivs[1].text.strip()\n",
    "\n",
    "                nominee_payload = {'Category':category,\n",
    "                                   'Name':name,\n",
    "                                   'Movie':movie,\n",
    "                                   'Year':year,\n",
    "                                   'Winner':winner}\n",
    "\n",
    "                nominees_list.append(nominee_payload)\n",
    "    \n",
    "    return nominees_list"
   ]
  },
  {
   "cell_type": "code",
   "execution_count": 58,
   "metadata": {},
   "outputs": [],
   "source": [
    "#use this by including 'sleep' between each request; doesn't overwhlem the server (wasn't working without this)\n",
    "from time import sleep"
   ]
  },
  {
   "cell_type": "code",
   "execution_count": 59,
   "metadata": {},
   "outputs": [
    {
     "name": "stdout",
     "output_type": "stream",
     "text": [
      "The start of something.\n",
      "The end of something.\n"
     ]
    }
   ],
   "source": [
    "print(\"The start of something.\")\n",
    "sleep(3)\n",
    "print(\"The end of something.\")"
   ]
  },
  {
   "cell_type": "code",
   "execution_count": 60,
   "metadata": {},
   "outputs": [
    {
     "name": "stdout",
     "output_type": "stream",
     "text": [
      "https://www.oscars.org/oscars/ceremonies/2010\n",
      "https://www.oscars.org/oscars/ceremonies/2011\n",
      "https://www.oscars.org/oscars/ceremonies/2012\n",
      "https://www.oscars.org/oscars/ceremonies/2013\n",
      "https://www.oscars.org/oscars/ceremonies/2014\n",
      "https://www.oscars.org/oscars/ceremonies/2015\n",
      "https://www.oscars.org/oscars/ceremonies/2016\n",
      "https://www.oscars.org/oscars/ceremonies/2017\n",
      "https://www.oscars.org/oscars/ceremonies/2018\n",
      "https://www.oscars.org/oscars/ceremonies/2019\n"
     ]
    }
   ],
   "source": [
    "#prints award pages from 2010-2020; 1 second request between URL retrieval\n",
    "for year in range(2010,2020):\n",
    "    sleep(1)\n",
    "    print('https://www.oscars.org/oscars/ceremonies/{0}'.format(year))"
   ]
  },
  {
   "cell_type": "code",
   "execution_count": 61,
   "metadata": {},
   "outputs": [],
   "source": [
    "#create an empty list to store the data we get\n",
    "all_years_nominees = dict()\n",
    "\n",
    "for year in range(2010,2020):\n",
    "\n",
    "    sleep(1) \n",
    "    \n",
    "    #get raw HTML & use beautiful soup\n",
    "    year_raw_html = requests.get('https://www.oscars.org/oscars/ceremonies/{0}'.format(year)).text\n",
    "    year_soup_html = BeautifulSoup(year_raw_html)\n",
    "    \n",
    "    #get the parent group\n",
    "    year_parent_group = year_soup_html.find_all('div',{'id':'quicktabs-tabpage-honorees-0'})\n",
    "    \n",
    "    #get the true groups under the parent group\n",
    "    year_true_groups = year_parent_group[0].find_all('div',{'class':'view-grouping'})\n",
    "    \n",
    "    #use parsing function\n",
    "    year_nominees = parse_nominees(year_true_groups,year)\n",
    "    \n",
    "    #convert the year_nominees to a df and add them to all_years_nominees\n",
    "    all_years_nominees[year] = pd.DataFrame(year_nominees)"
   ]
  },
  {
   "cell_type": "code",
   "execution_count": 62,
   "metadata": {},
   "outputs": [
    {
     "data": {
      "text/html": [
       "<div>\n",
       "<style scoped>\n",
       "    .dataframe tbody tr th:only-of-type {\n",
       "        vertical-align: middle;\n",
       "    }\n",
       "\n",
       "    .dataframe tbody tr th {\n",
       "        vertical-align: top;\n",
       "    }\n",
       "\n",
       "    .dataframe thead th {\n",
       "        text-align: right;\n",
       "    }\n",
       "</style>\n",
       "<table border=\"1\" class=\"dataframe\">\n",
       "  <thead>\n",
       "    <tr style=\"text-align: right;\">\n",
       "      <th></th>\n",
       "      <th>Category</th>\n",
       "      <th>Name</th>\n",
       "      <th>Movie</th>\n",
       "      <th>Year</th>\n",
       "      <th>Winner</th>\n",
       "    </tr>\n",
       "  </thead>\n",
       "  <tbody>\n",
       "    <tr>\n",
       "      <td>0</td>\n",
       "      <td>Actor in a Leading Role</td>\n",
       "      <td>Jeff Bridges</td>\n",
       "      <td>Crazy Heart</td>\n",
       "      <td>2010</td>\n",
       "      <td>Won</td>\n",
       "    </tr>\n",
       "    <tr>\n",
       "      <td>1</td>\n",
       "      <td>Actor in a Leading Role</td>\n",
       "      <td>George Clooney</td>\n",
       "      <td>Up in the Air</td>\n",
       "      <td>2010</td>\n",
       "      <td>Lost</td>\n",
       "    </tr>\n",
       "    <tr>\n",
       "      <td>2</td>\n",
       "      <td>Actor in a Leading Role</td>\n",
       "      <td>Colin Firth</td>\n",
       "      <td>A Single Man</td>\n",
       "      <td>2010</td>\n",
       "      <td>Lost</td>\n",
       "    </tr>\n",
       "    <tr>\n",
       "      <td>3</td>\n",
       "      <td>Actor in a Leading Role</td>\n",
       "      <td>Morgan Freeman</td>\n",
       "      <td>Invictus</td>\n",
       "      <td>2010</td>\n",
       "      <td>Lost</td>\n",
       "    </tr>\n",
       "    <tr>\n",
       "      <td>4</td>\n",
       "      <td>Actor in a Leading Role</td>\n",
       "      <td>Jeremy Renner</td>\n",
       "      <td>The Hurt Locker</td>\n",
       "      <td>2010</td>\n",
       "      <td>Lost</td>\n",
       "    </tr>\n",
       "    <tr>\n",
       "      <td>...</td>\n",
       "      <td>...</td>\n",
       "      <td>...</td>\n",
       "      <td>...</td>\n",
       "      <td>...</td>\n",
       "      <td>...</td>\n",
       "    </tr>\n",
       "    <tr>\n",
       "      <td>1208</td>\n",
       "      <td>Writing (Original Screenplay)</td>\n",
       "      <td>Written by Nick Vallelonga, Brian Currie, Pete...</td>\n",
       "      <td>Green Book</td>\n",
       "      <td>2019</td>\n",
       "      <td>Won</td>\n",
       "    </tr>\n",
       "    <tr>\n",
       "      <td>1209</td>\n",
       "      <td>Writing (Original Screenplay)</td>\n",
       "      <td>Written by Deborah Davis and Tony McNamara</td>\n",
       "      <td>The Favourite</td>\n",
       "      <td>2019</td>\n",
       "      <td>Lost</td>\n",
       "    </tr>\n",
       "    <tr>\n",
       "      <td>1210</td>\n",
       "      <td>Writing (Original Screenplay)</td>\n",
       "      <td>Written by Paul Schrader</td>\n",
       "      <td>First Reformed</td>\n",
       "      <td>2019</td>\n",
       "      <td>Lost</td>\n",
       "    </tr>\n",
       "    <tr>\n",
       "      <td>1211</td>\n",
       "      <td>Writing (Original Screenplay)</td>\n",
       "      <td>Written by Alfonso Cuarón</td>\n",
       "      <td>Roma</td>\n",
       "      <td>2019</td>\n",
       "      <td>Lost</td>\n",
       "    </tr>\n",
       "    <tr>\n",
       "      <td>1212</td>\n",
       "      <td>Writing (Original Screenplay)</td>\n",
       "      <td>Written by Adam McKay</td>\n",
       "      <td>Vice</td>\n",
       "      <td>2019</td>\n",
       "      <td>Lost</td>\n",
       "    </tr>\n",
       "  </tbody>\n",
       "</table>\n",
       "<p>1213 rows × 5 columns</p>\n",
       "</div>"
      ],
      "text/plain": [
       "                           Category  \\\n",
       "0           Actor in a Leading Role   \n",
       "1           Actor in a Leading Role   \n",
       "2           Actor in a Leading Role   \n",
       "3           Actor in a Leading Role   \n",
       "4           Actor in a Leading Role   \n",
       "...                             ...   \n",
       "1208  Writing (Original Screenplay)   \n",
       "1209  Writing (Original Screenplay)   \n",
       "1210  Writing (Original Screenplay)   \n",
       "1211  Writing (Original Screenplay)   \n",
       "1212  Writing (Original Screenplay)   \n",
       "\n",
       "                                                   Name            Movie  \\\n",
       "0                                          Jeff Bridges      Crazy Heart   \n",
       "1                                        George Clooney    Up in the Air   \n",
       "2                                           Colin Firth     A Single Man   \n",
       "3                                        Morgan Freeman         Invictus   \n",
       "4                                         Jeremy Renner  The Hurt Locker   \n",
       "...                                                 ...              ...   \n",
       "1208  Written by Nick Vallelonga, Brian Currie, Pete...       Green Book   \n",
       "1209         Written by Deborah Davis and Tony McNamara    The Favourite   \n",
       "1210                           Written by Paul Schrader   First Reformed   \n",
       "1211                          Written by Alfonso Cuarón             Roma   \n",
       "1212                              Written by Adam McKay             Vice   \n",
       "\n",
       "      Year Winner  \n",
       "0     2010    Won  \n",
       "1     2010   Lost  \n",
       "2     2010   Lost  \n",
       "3     2010   Lost  \n",
       "4     2010   Lost  \n",
       "...    ...    ...  \n",
       "1208  2019    Won  \n",
       "1209  2019   Lost  \n",
       "1210  2019   Lost  \n",
       "1211  2019   Lost  \n",
       "1212  2019   Lost  \n",
       "\n",
       "[1213 rows x 5 columns]"
      ]
     },
     "execution_count": 62,
     "metadata": {},
     "output_type": "execute_result"
    }
   ],
   "source": [
    "#dataframe including all years\n",
    "all_years_nominees_df = pd.concat(all_years_nominees)\n",
    "all_years_nominees_df.reset_index(drop=True)"
   ]
  },
  {
   "cell_type": "code",
   "execution_count": 63,
   "metadata": {},
   "outputs": [],
   "source": [
    "all_years_nominees_df.to_excel(r'C:\\Users\\Shailaja\\Documents\\college\\2019 spring\\ban 172 - web analytics\\final project\\oscars_allyears.xlsx')"
   ]
  },
  {
   "cell_type": "code",
   "execution_count": null,
   "metadata": {},
   "outputs": [],
   "source": []
  }
 ],
 "metadata": {
  "kernelspec": {
   "display_name": "Python 3",
   "language": "python",
   "name": "python3"
  },
  "language_info": {
   "codemirror_mode": {
    "name": "ipython",
    "version": 3
   },
   "file_extension": ".py",
   "mimetype": "text/x-python",
   "name": "python",
   "nbconvert_exporter": "python",
   "pygments_lexer": "ipython3",
   "version": "3.7.4"
  }
 },
 "nbformat": 4,
 "nbformat_minor": 2
}
